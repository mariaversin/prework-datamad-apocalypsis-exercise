Esta es la solución al ejercicio Apocalypsis Zombie
